{
 "cells": [
  {
   "cell_type": "code",
   "execution_count": 34,
   "metadata": {
    "collapsed": true
   },
   "outputs": [],
   "source": [
    "import madmom\n",
    "import numpy as np"
   ]
  },
  {
   "cell_type": "code",
   "execution_count": 75,
   "metadata": {},
   "outputs": [],
   "source": [
    "#playing the audio\n",
    "import IPython.display as ipd\n",
    "ipd.Audio('/Users/pranjal/Desktop/audio_feature_extraction/data/guitar.wav')"
   ]
  },
  {
   "cell_type": "markdown",
   "metadata": {},
   "source": [
    "## Root Mean Square"
   ]
  },
  {
   "cell_type": "code",
   "execution_count": 70,
   "metadata": {},
   "outputs": [],
   "source": [
    "from madmom.audio.signal import FramedSignal\n",
    "from madmom.audio.signal import root_mean_square\n",
    "\n",
    "\n",
    "fs = FramedSignal('/Users/pranjal/Desktop/audio_feature_extraction/data/guitar.wav', num_channels=1, fps=100)\n",
    "rms = root_mean_square(fs)\n",
    "rms"
   ]
  },
  {
   "cell_type": "code",
   "execution_count": null,
   "metadata": {},
   "outputs": [],
   "source": []
  },
  {
   "cell_type": "markdown",
   "metadata": {},
   "source": [
    "## Zero Crossing Rate"
   ]
  },
  {
   "cell_type": "code",
   "execution_count": 74,
   "metadata": {},
   "outputs": [
    {
     "data": {
      "text/plain": [
       "array([[ 0.16992188,  0.22949219,  0.27490234, ...,  0.015625  ,\n",
       "         0.01074219,  0.00732422]])"
      ]
     },
     "execution_count": 74,
     "metadata": {},
     "output_type": "execute_result"
    }
   ],
   "source": [
    "from librosa.feature import zero_crossing_rate\n",
    "from librosa.core import load \n",
    "wav_file = load ('/Users/pranjal/Desktop/audio_feature_extraction/data/guitar.wav', sr=44100)\n",
    "\n",
    "zcr = zero_crossing_rate(wav_file[0], frame_length=2048, hop_length=441)\n",
    "\n",
    "#gives the scaled value of zcr from 0 to 1\n",
    "zcr"
   ]
  },
  {
   "cell_type": "code",
   "execution_count": 40,
   "metadata": {},
   "outputs": [
    {
     "data": {
      "text/plain": [
       "Signal([  201,    23,    21, ..., -5345, -4768, -4363], dtype=int16)"
      ]
     },
     "execution_count": 40,
     "metadata": {},
     "output_type": "execute_result"
    }
   ],
   "source": [
    "from madmom.audio.signal import Signal\n",
    "s = Signal('/Users/pranjal/Desktop/audio_feature_extraction/data/guitar.wav', num_channels=1)\n",
    "s"
   ]
  },
  {
   "cell_type": "markdown",
   "metadata": {},
   "source": [
    "## Power Spectrum"
   ]
  },
  {
   "cell_type": "code",
   "execution_count": 42,
   "metadata": {},
   "outputs": [
    {
     "data": {
      "image/png": "[encoded data removed]",
      "text/plain": [
       "<matplotlib.figure.Figure at 0x1a253bf208>"
      ]
     },
     "metadata": {},
     "output_type": "display_data"
    }
   ],
   "source": [
    "from scipy import signal\n",
    "import matplotlib.pyplot as plt\n",
    "from madmom.audio.signal import Signal\n",
    "\n",
    "#calculating PSD using Welch's method\n",
    "s = Signal('/Users/pranjal/Desktop/audio_feature_extraction/data/guitar.wav', num_channels=1)\n",
    "f, Pxx_den = signal.welch(s, 44100, nperseg=1024)\n",
    "\n",
    "#plotting the PSD\n",
    "plt.semilogy(f, Pxx_den)\n",
    "plt.ylim([10e-5, 10e5])\n",
    "plt.xlabel('Frequency')\n",
    "plt.ylabel('PSD')\n",
    "plt.show()"
   ]
  },
  {
   "cell_type": "markdown",
   "metadata": {},
   "source": [
    "## MFCCs"
   ]
  },
  {
   "cell_type": "code",
   "execution_count": 67,
   "metadata": {},
   "outputs": [
    {
     "data": {
      "text/plain": [
       "array([[ -4.02339275e+02,  -3.97031911e+02,  -3.90455654e+02, ...,\n",
       "         -2.05537277e+02,  -2.10268567e+02,  -2.02192758e+02],\n",
       "       [  1.28651079e+01,   1.21737994e+01,   1.80055395e+01, ...,\n",
       "          1.80922362e+02,   1.85021151e+02,   2.00746626e+02],\n",
       "       [  1.07796097e+01,   8.14402514e+00,   5.05783186e+00, ...,\n",
       "          7.84652332e+00,   6.38630670e+00,   6.83262325e+00],\n",
       "       ..., \n",
       "       [  3.95114888e+00,   3.85251143e+00,   5.16223340e+00, ...,\n",
       "         -9.02581795e+00,  -7.02039199e+00,  -1.90369232e+00],\n",
       "       [ -1.37880507e+00,  -6.81387024e+00,  -6.25333712e+00, ...,\n",
       "         -4.96624948e+00,  -5.71395779e+00,  -3.86162254e+00],\n",
       "       [  8.04232828e+00,   7.43208449e+00,  -3.86201786e-01, ...,\n",
       "          1.47864843e+00,  -9.43419808e-01,   3.56345241e+00]])"
      ]
     },
     "execution_count": 67,
     "metadata": {},
     "output_type": "execute_result"
    }
   ],
   "source": [
    "from librosa.feature import mfcc\n",
    "from librosa.core import load \n",
    "wav_file = load ('/Users/pranjal/Desktop/audio_feature_extraction/data/guitar.wav', sr=44100)\n",
    "m = mfcc(y=wav_file[0], sr=44100, n_mfcc=39)\n",
    "m"
   ]
  },
  {
   "cell_type": "code",
   "execution_count": null,
   "metadata": {},
   "outputs": [],
   "source": []
  },
  {
   "cell_type": "markdown",
   "metadata": {},
   "source": [
    "## Loudness"
   ]
  },
  {
   "cell_type": "code",
   "execution_count": 50,
   "metadata": {},
   "outputs": [
    {
     "data": {
      "text/plain": [
       "array([-34.8464285 ,  27.23455672,  26.44438589, ..., -34.8464285 ,\n",
       "       -34.8464285 ,  44.81858091])"
      ]
     },
     "execution_count": 50,
     "metadata": {},
     "output_type": "execute_result"
    }
   ],
   "source": [
    "from librosa.core import amplitude_to_db\n",
    "loud = amplitude_to_db (s)\n",
    "loud"
   ]
  },
  {
   "cell_type": "code",
   "execution_count": null,
   "metadata": {
    "collapsed": true
   },
   "outputs": [],
   "source": []
  }
 ],
 "metadata": {
  "kernelspec": {
   "display_name": "Python 3",
   "language": "python",
   "name": "python3"
  },
  "language_info": {
   "codemirror_mode": {
    "name": "ipython",
    "version": 3
   },
   "file_extension": ".py",
   "mimetype": "text/x-python",
   "name": "python",
   "nbconvert_exporter": "python",
   "pygments_lexer": "ipython3",
   "version": "3.6.3"
  }
 },
 "nbformat": 4,
 "nbformat_minor": 2
}
